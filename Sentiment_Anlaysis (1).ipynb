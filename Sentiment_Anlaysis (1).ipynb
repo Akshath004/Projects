{
  "nbformat": 4,
  "nbformat_minor": 0,
  "metadata": {
    "colab": {
      "provenance": []
    },
    "kernelspec": {
      "name": "python3",
      "display_name": "Python 3"
    },
    "language_info": {
      "name": "python"
    }
  },
  "cells": [
    {
      "cell_type": "code",
      "execution_count": 1,
      "metadata": {
        "colab": {
          "base_uri": "https://localhost:8080/"
        },
        "id": "L-NObN-WBZVN",
        "outputId": "38dd8eb9-122e-4614-de61-5d1bd931c7f2"
      },
      "outputs": [
        {
          "output_type": "stream",
          "name": "stdout",
          "text": [
            "Sentiment: Positive\n"
          ]
        }
      ],
      "source": [
        "def simple_sentiment_analysis(text):\n",
        "    # Convert the text to lowercase for consistency\n",
        "    text = text.lower()\n",
        "\n",
        "    # Define positive and negative words (you can extend this list)\n",
        "    positive_words = ['good', 'happy', 'excellent', 'positive']\n",
        "    negative_words = ['bad', 'sad', 'poor', 'negative']\n",
        "\n",
        "    # Tokenize the text (you might want to improve this process)\n",
        "    words = text.split()\n",
        "\n",
        "    # Count positive and negative words\n",
        "    positive_count = sum(word in positive_words for word in words)\n",
        "    negative_count = sum(word in negative_words for word in words)\n",
        "\n",
        "    # Determine sentiment based on counts\n",
        "    if positive_count > negative_count:\n",
        "        return 'Positive'\n",
        "    elif negative_count > positive_count:\n",
        "        return 'Negative'\n",
        "    else:\n",
        "        return 'Neutral'\n",
        "\n",
        "# Example usage\n",
        "text_to_analyze = \"I feel good about this product. It's not bad, but could be better.\"\n",
        "sentiment_result = simple_sentiment_analysis(text_to_analyze)\n",
        "print(f\"Sentiment: {sentiment_result}\")\n"
      ]
    },
    {
      "cell_type": "code",
      "source": [
        "import nltk\n",
        "from nltk.sentiment import SentimentIntensityAnalyzer\n",
        "\n",
        "nltk.download('vader_lexicon')\n",
        "\n",
        "def nlp_sentiment_analysis(text):\n",
        "    # Initialize the VADER sentiment analyzer\n",
        "    sid = SentimentIntensityAnalyzer()\n",
        "\n",
        "    # Get sentiment scores\n",
        "    sentiment_scores = sid.polarity_scores(text)\n",
        "\n",
        "    # Determine sentiment based on the compound score\n",
        "    if sentiment_scores['compound'] >= 0.05:\n",
        "        return 'Positive'\n",
        "    elif sentiment_scores['compound'] <= -0.05:\n",
        "        return 'Negative'\n",
        "    else:\n",
        "        return 'Neutral'\n",
        "\n",
        "# Example usage\n",
        "text_to_analyze = \"Customer is not pleased with this product, he wants a refund\"\n",
        "sentiment_result = nlp_sentiment_analysis(text_to_analyze)\n",
        "print(f\"Sentiment: {sentiment_result}\")\n"
      ],
      "metadata": {
        "colab": {
          "base_uri": "https://localhost:8080/"
        },
        "id": "BBsi7fgCKKli",
        "outputId": "945c63f6-a519-485e-ef3d-e80aad0d2548"
      },
      "execution_count": 4,
      "outputs": [
        {
          "output_type": "stream",
          "name": "stdout",
          "text": [
            "Sentiment: Negative\n"
          ]
        },
        {
          "output_type": "stream",
          "name": "stderr",
          "text": [
            "[nltk_data] Downloading package vader_lexicon to /root/nltk_data...\n",
            "[nltk_data]   Package vader_lexicon is already up-to-date!\n"
          ]
        }
      ]
    }
  ]
}